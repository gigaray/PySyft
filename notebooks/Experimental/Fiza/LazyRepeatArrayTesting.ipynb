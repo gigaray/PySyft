{
 "cells": [
  {
   "cell_type": "code",
   "execution_count": 1,
   "id": "8dba2bde-2489-41ce-8629-360138488477",
   "metadata": {},
   "outputs": [],
   "source": [
    "import numpy as np\n",
    "from syft.core.tensor.lazy_repeat_array import lazyrepeatarray"
   ]
  },
  {
   "cell_type": "code",
   "execution_count": 2,
   "id": "867f0eaf-5b50-47e7-b161-8846c84d9336",
   "metadata": {},
   "outputs": [],
   "source": [
    "a = np.array((4, 0))"
   ]
  },
  {
   "cell_type": "code",
   "execution_count": 3,
   "id": "6166cfcf-db54-4bfc-ac3f-5bdded87cba0",
   "metadata": {},
   "outputs": [],
   "source": [
    "array1 = lazyrepeatarray(a, (4, 2))"
   ]
  },
  {
   "cell_type": "code",
   "execution_count": 4,
   "id": "04100f3d-0d05-405d-91bd-760e3394f79c",
   "metadata": {},
   "outputs": [
    {
     "data": {
      "text/plain": [
       "array([4, 0])"
      ]
     },
     "execution_count": 4,
     "metadata": {},
     "output_type": "execute_result"
    }
   ],
   "source": [
    "array1.data"
   ]
  },
  {
   "cell_type": "code",
   "execution_count": 5,
   "id": "80fe9ccf-3bec-49c5-8325-2a6623bb9e68",
   "metadata": {
    "tags": []
   },
   "outputs": [
    {
     "data": {
      "text/plain": [
       "<lazyrepeatarray data: [2.55344903 2.81981113 1.55585965 0.83052235] -> shape: (4, 4)>"
      ]
     },
     "execution_count": 5,
     "metadata": {},
     "output_type": "execute_result"
    }
   ],
   "source": [
    "b = (np.random.random((2, 4)))\n",
    "array1 @ b"
   ]
  },
  {
   "cell_type": "code",
   "execution_count": 6,
   "id": "02386975-bfdf-467d-9c4b-47ca8a1e3a79",
   "metadata": {},
   "outputs": [],
   "source": [
    "array2 = lazyrepeatarray(2, (2, 5))"
   ]
  },
  {
   "cell_type": "code",
   "execution_count": 7,
   "id": "1d45b375-5d7e-4120-b834-ef2e2e7b4fa2",
   "metadata": {},
   "outputs": [
    {
     "data": {
      "text/plain": [
       "<lazyrepeatarray data: [[8 8 8 8 8]\n",
       " [8 8 8 8 8]\n",
       " [8 8 8 8 8]\n",
       " [8 8 8 8 8]] -> shape: (4, 5)>"
      ]
     },
     "execution_count": 7,
     "metadata": {},
     "output_type": "execute_result"
    }
   ],
   "source": [
    "array1 @ array2"
   ]
  },
  {
   "cell_type": "code",
   "execution_count": 8,
   "id": "58f53d74-d2c7-4756-9cde-d92f6c0de5e6",
   "metadata": {},
   "outputs": [
    {
     "data": {
      "text/plain": [
       "(array([0]),)"
      ]
     },
     "execution_count": 8,
     "metadata": {},
     "output_type": "execute_result"
    }
   ],
   "source": [
    "np.nonzero(array1.data)"
   ]
  },
  {
   "cell_type": "code",
   "execution_count": 9,
   "id": "7bc5d677-52f6-4c0a-a5bf-a52d43150d68",
   "metadata": {},
   "outputs": [
    {
     "data": {
      "text/plain": [
       "2"
      ]
     },
     "execution_count": 9,
     "metadata": {},
     "output_type": "execute_result"
    }
   ],
   "source": [
    "array1.data.shape[0]"
   ]
  },
  {
   "cell_type": "code",
   "execution_count": 10,
   "id": "eb8a4fd8-ec53-4835-bbd9-6044ed7dfaae",
   "metadata": {},
   "outputs": [],
   "source": [
    "from scipy.sparse import coo_array"
   ]
  },
  {
   "cell_type": "code",
   "execution_count": 11,
   "id": "15bbdc53-c273-46ae-bb18-e1dde566086a",
   "metadata": {},
   "outputs": [
    {
     "data": {
      "text/plain": [
       "<lazyrepeatarray data: [4 0] -> shape: (4, 2)>"
      ]
     },
     "execution_count": 11,
     "metadata": {},
     "output_type": "execute_result"
    }
   ],
   "source": [
    "array1"
   ]
  },
  {
   "cell_type": "code",
   "execution_count": 12,
   "id": "8e83f6f5-e3f1-4a5b-a850-b5132fc1423d",
   "metadata": {},
   "outputs": [
    {
     "data": {
      "text/plain": [
       "(4, 2)"
      ]
     },
     "execution_count": 12,
     "metadata": {},
     "output_type": "execute_result"
    }
   ],
   "source": [
    "array1.shape"
   ]
  },
  {
   "cell_type": "code",
   "execution_count": 13,
   "id": "713b98dd-dc14-41b9-912c-4c128338a0eb",
   "metadata": {},
   "outputs": [],
   "source": [
    "# row = np.indices(array1.shape).reshape(2, -1)[0]\n",
    "# col = np.indices(array1.shape).reshape(2, -1)[1]\n",
    "# data = np.repeat(array1.data, row.shape)\n",
    "# sparse_array1 = coo_array((data, (row, col)))\n",
    "# sparse_array1"
   ]
  },
  {
   "cell_type": "code",
   "execution_count": 14,
   "id": "fdfdf7b6-c324-45be-85ff-2e88ad70e158",
   "metadata": {},
   "outputs": [
    {
     "data": {
      "text/plain": [
       "<2x5 sparse array of type '<class 'numpy.int64'>'\n",
       "\twith 10 stored elements in COOrdinate format>"
      ]
     },
     "execution_count": 14,
     "metadata": {},
     "output_type": "execute_result"
    }
   ],
   "source": [
    "row = np.indices(array2.shape).reshape(2, -1)[0]\n",
    "col = np.indices(array2.shape).reshape(2, -1)[1]\n",
    "data = np.repeat(array2.data, row.shape)\n",
    "sparse_array2 = coo_array((data, (row, col)))\n",
    "sparse_array2"
   ]
  },
  {
   "cell_type": "code",
   "execution_count": 16,
   "id": "1c6e14d9-eff6-43cd-8e00-f6e50dacb93a",
   "metadata": {},
   "outputs": [],
   "source": [
    "# out = sparse_array1.dot(sparse_array2)"
   ]
  },
  {
   "cell_type": "code",
   "execution_count": 17,
   "id": "7a0e21ae-19ff-4625-9e34-6a19662ff455",
   "metadata": {},
   "outputs": [
    {
     "ename": "NameError",
     "evalue": "name 'out' is not defined",
     "output_type": "error",
     "traceback": [
      "\u001b[0;31m---------------------------------------------------------------------------\u001b[0m",
      "\u001b[0;31mNameError\u001b[0m                                 Traceback (most recent call last)",
      "Input \u001b[0;32mIn [17]\u001b[0m, in \u001b[0;36m<module>\u001b[0;34m\u001b[0m\n\u001b[0;32m----> 1\u001b[0m \u001b[43mout\u001b[49m\u001b[38;5;241m.\u001b[39mdata\n",
      "\u001b[0;31mNameError\u001b[0m: name 'out' is not defined"
     ]
    }
   ],
   "source": [
    "# out.data"
   ]
  },
  {
   "cell_type": "code",
   "execution_count": 18,
   "id": "4c332902-2fb6-40df-ab6e-9deb6e26f64d",
   "metadata": {},
   "outputs": [
    {
     "data": {
      "text/plain": [
       "<lazyrepeatarray data: [[8 8 8 8 8]\n",
       " [8 8 8 8 8]\n",
       " [8 8 8 8 8]\n",
       " [8 8 8 8 8]] -> shape: (4, 5)>"
      ]
     },
     "execution_count": 18,
     "metadata": {},
     "output_type": "execute_result"
    }
   ],
   "source": [
    "array1 @ array2"
   ]
  },
  {
   "cell_type": "code",
   "execution_count": 19,
   "id": "07f66bb7-b93f-4a69-8ac0-50abc29e2f3c",
   "metadata": {},
   "outputs": [],
   "source": [
    "# s1 = lazyrepeatarray(2, (24076, 21779))\n",
    "# s2 = lazyrepeatarray(4, (21779, 24076))\n",
    "s1 = lazyrepeatarray(0, (1000, 1000))\n",
    "s2 = lazyrepeatarray(4, (1000, 1000))"
   ]
  },
  {
   "cell_type": "code",
   "execution_count": 20,
   "id": "1d644d9a-faed-4801-9b84-4bc518f6b435",
   "metadata": {},
   "outputs": [],
   "source": [
    "import time "
   ]
  },
  {
   "cell_type": "code",
   "execution_count": 21,
   "id": "b31ce033-836a-4e75-8b7c-f37fa3319496",
   "metadata": {},
   "outputs": [],
   "source": [
    "start = time.time()\n",
    "s1 @ s2\n",
    "end = time.time()"
   ]
  },
  {
   "cell_type": "code",
   "execution_count": 22,
   "id": "b1733fd6-2168-4bdf-9168-9deba0c4f876",
   "metadata": {},
   "outputs": [
    {
     "data": {
      "text/plain": [
       "0.45892786979675293"
      ]
     },
     "execution_count": 22,
     "metadata": {},
     "output_type": "execute_result"
    }
   ],
   "source": [
    "time_taken = end - start\n",
    "time_taken"
   ]
  },
  {
   "cell_type": "code",
   "execution_count": 23,
   "id": "a557df18-501d-481e-9c7d-ab96d0724d0b",
   "metadata": {},
   "outputs": [],
   "source": [
    "row = np.indices(s1.shape).reshape(2, -1)[0]\n",
    "col = np.indices(s1.shape).reshape(2, -1)[1]\n",
    "data = np.repeat(s1.data, row.shape)\n",
    "sparse_s1 = coo_array((data, (row, col)))"
   ]
  },
  {
   "cell_type": "code",
   "execution_count": 24,
   "id": "c3c0bb08-f67e-45a7-932f-f5c7d849a15b",
   "metadata": {},
   "outputs": [],
   "source": [
    "row = np.indices(s2.shape).reshape(2, -1)[0]\n",
    "col = np.indices(s2.shape).reshape(2, -1)[1]\n",
    "data = np.repeat(s2.data, row.shape)\n",
    "sparse_s2 = coo_array((data, (row, col)))"
   ]
  },
  {
   "cell_type": "code",
   "execution_count": 25,
   "id": "c369e874-690f-4a94-aee8-48e0ccb950a3",
   "metadata": {},
   "outputs": [],
   "source": [
    "start = time.time()\n",
    "sparse_s1.dot(sparse_s2)\n",
    "end = time.time()"
   ]
  },
  {
   "cell_type": "code",
   "execution_count": 26,
   "id": "42aa15d5-9b40-4892-b817-1dd162b3e0c5",
   "metadata": {},
   "outputs": [
    {
     "data": {
      "text/plain": [
       "1.0023181438446045"
      ]
     },
     "execution_count": 26,
     "metadata": {},
     "output_type": "execute_result"
    }
   ],
   "source": [
    "time_taken = end - start\n",
    "time_taken"
   ]
  },
  {
   "cell_type": "code",
   "execution_count": null,
   "id": "395725e5-5219-46b1-85a8-9a079f9a2b0e",
   "metadata": {},
   "outputs": [],
   "source": []
  }
 ],
 "metadata": {
  "kernelspec": {
   "display_name": "Python 3 (ipykernel)",
   "language": "python",
   "name": "python3"
  },
  "language_info": {
   "codemirror_mode": {
    "name": "ipython",
    "version": 3
   },
   "file_extension": ".py",
   "mimetype": "text/x-python",
   "name": "python",
   "nbconvert_exporter": "python",
   "pygments_lexer": "ipython3",
   "version": "3.9.10"
  }
 },
 "nbformat": 4,
 "nbformat_minor": 5
}
