{
 "cells": [
  {
   "cell_type": "code",
   "execution_count": 108,
   "id": "8dba2bde-2489-41ce-8629-360138488477",
   "metadata": {},
   "outputs": [],
   "source": [
    "import numpy as np\n",
    "from syft.core.tensor.lazy_repeat_array import lazyrepeatarray"
   ]
  },
  {
   "cell_type": "code",
   "execution_count": 109,
   "id": "867f0eaf-5b50-47e7-b161-8846c84d9336",
   "metadata": {},
   "outputs": [],
   "source": [
    "a = np.array((4, 0))"
   ]
  },
  {
   "cell_type": "code",
   "execution_count": 110,
   "id": "6166cfcf-db54-4bfc-ac3f-5bdded87cba0",
   "metadata": {},
   "outputs": [],
   "source": [
    "array1 = lazyrepeatarray(a, (2, 2))"
   ]
  },
  {
   "cell_type": "code",
   "execution_count": 111,
   "id": "80fe9ccf-3bec-49c5-8325-2a6623bb9e68",
   "metadata": {
    "tags": []
   },
   "outputs": [
    {
     "data": {
      "text/plain": [
       "<lazyrepeatarray data: [1.93488436 1.80135699 2.89369993 3.42495751] -> shape: (2, 4)>"
      ]
     },
     "execution_count": 111,
     "metadata": {},
     "output_type": "execute_result"
    }
   ],
   "source": [
    "b = (np.random.random((2, 4)))\n",
    "array1 @ b"
   ]
  },
  {
   "cell_type": "code",
   "execution_count": 112,
   "id": "02386975-bfdf-467d-9c4b-47ca8a1e3a79",
   "metadata": {},
   "outputs": [],
   "source": [
    "array2 = lazyrepeatarray(np.array((0, 2)), (2, 2))"
   ]
  },
  {
   "cell_type": "code",
   "execution_count": 113,
   "id": "1d45b375-5d7e-4120-b834-ef2e2e7b4fa2",
   "metadata": {},
   "outputs": [
    {
     "data": {
      "text/plain": [
       "<lazyrepeatarray data: [[0 8]\n",
       " [0 8]] -> shape: (2, 2)>"
      ]
     },
     "execution_count": 113,
     "metadata": {},
     "output_type": "execute_result"
    }
   ],
   "source": [
    "array1 @ array2"
   ]
  },
  {
   "cell_type": "code",
   "execution_count": 114,
   "id": "eb8a4fd8-ec53-4835-bbd9-6044ed7dfaae",
   "metadata": {},
   "outputs": [],
   "source": [
    "from scipy.sparse import coo_array"
   ]
  },
  {
   "cell_type": "code",
   "execution_count": 115,
   "id": "15bbdc53-c273-46ae-bb18-e1dde566086a",
   "metadata": {},
   "outputs": [
    {
     "data": {
      "text/plain": [
       "<lazyrepeatarray data: [4 0] -> shape: (2, 2)>"
      ]
     },
     "execution_count": 115,
     "metadata": {},
     "output_type": "execute_result"
    }
   ],
   "source": [
    "array1"
   ]
  },
  {
   "cell_type": "code",
   "execution_count": 116,
   "id": "8e83f6f5-e3f1-4a5b-a850-b5132fc1423d",
   "metadata": {},
   "outputs": [
    {
     "data": {
      "text/plain": [
       "(2, 2)"
      ]
     },
     "execution_count": 116,
     "metadata": {},
     "output_type": "execute_result"
    }
   ],
   "source": [
    "array1.shape"
   ]
  },
  {
   "cell_type": "code",
   "execution_count": 117,
   "id": "37cb1065-ac6f-4b44-8188-ae26bc8ce302",
   "metadata": {},
   "outputs": [],
   "source": [
    "nparray1 = array1.to_numpy()"
   ]
  },
  {
   "cell_type": "code",
   "execution_count": 118,
   "id": "713b98dd-dc14-41b9-912c-4c128338a0eb",
   "metadata": {},
   "outputs": [
    {
     "data": {
      "text/plain": [
       "<2x1 sparse array of type '<class 'numpy.int64'>'\n",
       "\twith 2 stored elements in COOrdinate format>"
      ]
     },
     "execution_count": 118,
     "metadata": {},
     "output_type": "execute_result"
    }
   ],
   "source": [
    "row = np.nonzero(nparray1)[0]\n",
    "col = np.nonzero(nparray1)[1]\n",
    "data = nparray1[np.nonzero(nparray1)]\n",
    "sparse_array1 = coo_array((data, (row, col)))\n",
    "sparse_array1"
   ]
  },
  {
   "cell_type": "code",
   "execution_count": 120,
   "id": "528b8b0d-e5f2-46da-b979-3d26e4fd0e74",
   "metadata": {},
   "outputs": [],
   "source": [
    "nparray2 = array2.to_numpy()"
   ]
  },
  {
   "cell_type": "code",
   "execution_count": 121,
   "id": "95fb0c46-020f-4a98-b6b1-50be659c8de2",
   "metadata": {},
   "outputs": [
    {
     "data": {
      "text/plain": [
       "array([[0, 2],\n",
       "       [0, 2]])"
      ]
     },
     "execution_count": 121,
     "metadata": {},
     "output_type": "execute_result"
    }
   ],
   "source": [
    "nparray2"
   ]
  },
  {
   "cell_type": "code",
   "execution_count": 122,
   "id": "fdfdf7b6-c324-45be-85ff-2e88ad70e158",
   "metadata": {},
   "outputs": [
    {
     "data": {
      "text/plain": [
       "<2x2 sparse array of type '<class 'numpy.int64'>'\n",
       "\twith 2 stored elements in COOrdinate format>"
      ]
     },
     "execution_count": 122,
     "metadata": {},
     "output_type": "execute_result"
    }
   ],
   "source": [
    "row = np.nonzero(nparray2)[0]\n",
    "col = np.nonzero(nparray2)[1]\n",
    "data = nparray2[np.nonzero(nparray2)]\n",
    "sparse_array2 = coo_array((data, (row, col)))\n",
    "sparse_array2"
   ]
  },
  {
   "cell_type": "code",
   "execution_count": 123,
   "id": "1c6e14d9-eff6-43cd-8e00-f6e50dacb93a",
   "metadata": {},
   "outputs": [],
   "source": [
    "out = sparse_array2.dot(sparse_array1)"
   ]
  },
  {
   "cell_type": "code",
   "execution_count": 124,
   "id": "4c332902-2fb6-40df-ab6e-9deb6e26f64d",
   "metadata": {},
   "outputs": [
    {
     "data": {
      "text/plain": [
       "<lazyrepeatarray data: [[0 8]\n",
       " [0 8]] -> shape: (2, 2)>"
      ]
     },
     "execution_count": 124,
     "metadata": {},
     "output_type": "execute_result"
    }
   ],
   "source": [
    "array1 @ array2"
   ]
  },
  {
   "cell_type": "code",
   "execution_count": 182,
   "id": "07f66bb7-b93f-4a69-8ac0-50abc29e2f3c",
   "metadata": {},
   "outputs": [],
   "source": [
    "# s1 = lazyrepeatarray(2, (24076, 21779))\n",
    "# s2 = lazyrepeatarray(4, (21779, 24076))\n",
    "s1 = lazyrepeatarray(1, (10000, 10000))\n",
    "# s1.to_numpy()\n",
    "s2 = lazyrepeatarray(np.array((0, 3)), (10000, 2))"
   ]
  },
  {
   "cell_type": "code",
   "execution_count": 183,
   "id": "1f16da3c-e7ed-4c3b-ab77-fcf7f247e085",
   "metadata": {},
   "outputs": [
    {
     "data": {
      "text/plain": [
       "array([[0, 3],\n",
       "       [0, 3],\n",
       "       [0, 3],\n",
       "       ...,\n",
       "       [0, 3],\n",
       "       [0, 3],\n",
       "       [0, 3]])"
      ]
     },
     "execution_count": 183,
     "metadata": {},
     "output_type": "execute_result"
    }
   ],
   "source": [
    "s2.to_numpy()"
   ]
  },
  {
   "cell_type": "code",
   "execution_count": 184,
   "id": "1d644d9a-faed-4801-9b84-4bc518f6b435",
   "metadata": {},
   "outputs": [],
   "source": [
    "import time "
   ]
  },
  {
   "cell_type": "code",
   "execution_count": 185,
   "id": "b31ce033-836a-4e75-8b7c-f37fa3319496",
   "metadata": {},
   "outputs": [],
   "source": [
    "start = time.time()\n",
    "s1 @ s2\n",
    "end = time.time()"
   ]
  },
  {
   "cell_type": "code",
   "execution_count": 186,
   "id": "b1733fd6-2168-4bdf-9168-9deba0c4f876",
   "metadata": {},
   "outputs": [
    {
     "data": {
      "text/plain": [
       "0.12269282341003418"
      ]
     },
     "execution_count": 186,
     "metadata": {},
     "output_type": "execute_result"
    }
   ],
   "source": [
    "time_taken = end - start\n",
    "time_taken"
   ]
  },
  {
   "cell_type": "code",
   "execution_count": 187,
   "id": "fd6dfd4f-a21d-4da1-9071-197067e8ac9a",
   "metadata": {},
   "outputs": [
    {
     "data": {
      "text/plain": [
       "<10000x10000 sparse array of type '<class 'numpy.int64'>'\n",
       "\twith 100000000 stored elements in COOrdinate format>"
      ]
     },
     "execution_count": 187,
     "metadata": {},
     "output_type": "execute_result"
    }
   ],
   "source": [
    "nparray1 = s1.to_numpy()\n",
    "row = np.nonzero(nparray1)[0]\n",
    "col = np.nonzero(nparray1)[1]\n",
    "data = nparray1[np.nonzero(nparray1)]\n",
    "sparse_array1 = coo_array((data, (row, col)))\n",
    "sparse_array1"
   ]
  },
  {
   "cell_type": "code",
   "execution_count": 188,
   "id": "dd189ea3-f79e-4545-84a0-a76390644198",
   "metadata": {},
   "outputs": [
    {
     "data": {
      "text/plain": [
       "<10000x2 sparse array of type '<class 'numpy.int64'>'\n",
       "\twith 10000 stored elements in COOrdinate format>"
      ]
     },
     "execution_count": 188,
     "metadata": {},
     "output_type": "execute_result"
    }
   ],
   "source": [
    "nparray2 = s2.to_numpy()\n",
    "row = np.nonzero(nparray2)[0]\n",
    "col = np.nonzero(nparray2)[1]\n",
    "data = nparray2[np.nonzero(nparray2)]\n",
    "sparse_array2 = coo_array((data, (row, col)))\n",
    "sparse_array2"
   ]
  },
  {
   "cell_type": "code",
   "execution_count": 191,
   "id": "c369e874-690f-4a94-aee8-48e0ccb950a3",
   "metadata": {},
   "outputs": [],
   "source": [
    "start = time.time()\n",
    "sparse_s1.dot(sparse_s2)\n",
    "end = time.time()"
   ]
  },
  {
   "cell_type": "code",
   "execution_count": 192,
   "id": "42aa15d5-9b40-4892-b817-1dd162b3e0c5",
   "metadata": {},
   "outputs": [
    {
     "data": {
      "text/plain": [
       "1.0100769996643066"
      ]
     },
     "execution_count": 192,
     "metadata": {},
     "output_type": "execute_result"
    }
   ],
   "source": [
    "time_taken = end - start\n",
    "time_taken"
   ]
  },
  {
   "cell_type": "code",
   "execution_count": null,
   "id": "395725e5-5219-46b1-85a8-9a079f9a2b0e",
   "metadata": {},
   "outputs": [],
   "source": []
  },
  {
   "cell_type": "code",
   "execution_count": null,
   "id": "32eead79-bdeb-4946-a4c2-b7a833f4000f",
   "metadata": {},
   "outputs": [],
   "source": []
  },
  {
   "cell_type": "code",
   "execution_count": null,
   "id": "2cd4f326-f392-49da-9ac5-e09efcabe545",
   "metadata": {},
   "outputs": [],
   "source": []
  }
 ],
 "metadata": {
  "kernelspec": {
   "display_name": "Python 3 (ipykernel)",
   "language": "python",
   "name": "python3"
  },
  "language_info": {
   "codemirror_mode": {
    "name": "ipython",
    "version": 3
   },
   "file_extension": ".py",
   "mimetype": "text/x-python",
   "name": "python",
   "nbconvert_exporter": "python",
   "pygments_lexer": "ipython3",
   "version": "3.9.10"
  }
 },
 "nbformat": 4,
 "nbformat_minor": 5
}
